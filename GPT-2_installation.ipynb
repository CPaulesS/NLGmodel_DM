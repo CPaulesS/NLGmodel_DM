{
 "cells": [
  {
   "cell_type": "code",
   "execution_count": 1,
   "id": "f92e99b2-e1fe-40ea-957b-116010c6b24c",
   "metadata": {},
   "outputs": [
    {
     "name": "stdout",
     "output_type": "stream",
     "text": [
      "Requirement already satisfied: gpt-2-simple in c:\\users\\carlo\\anaconda3\\lib\\site-packages (0.8.1)\n",
      "Requirement already satisfied: requests in c:\\users\\carlo\\anaconda3\\lib\\site-packages (from gpt-2-simple) (2.26.0)\n",
      "Requirement already satisfied: numpy in c:\\users\\carlo\\anaconda3\\lib\\site-packages (from gpt-2-simple) (1.22.0)\n",
      "Requirement already satisfied: tqdm in c:\\users\\carlo\\anaconda3\\lib\\site-packages (from gpt-2-simple) (4.62.3)\n",
      "Requirement already satisfied: tensorflow>=2.5.1 in c:\\users\\carlo\\anaconda3\\lib\\site-packages (from gpt-2-simple) (2.7.0)\n",
      "Requirement already satisfied: toposort in c:\\users\\carlo\\anaconda3\\lib\\site-packages (from gpt-2-simple) (1.7)\n",
      "Requirement already satisfied: regex in c:\\users\\carlo\\anaconda3\\lib\\site-packages (from gpt-2-simple) (2021.8.3)\n",
      "Requirement already satisfied: opt-einsum>=2.3.2 in c:\\users\\carlo\\anaconda3\\lib\\site-packages (from tensorflow>=2.5.1->gpt-2-simple) (3.3.0)\n",
      "Requirement already satisfied: wrapt>=1.11.0 in c:\\users\\carlo\\anaconda3\\lib\\site-packages (from tensorflow>=2.5.1->gpt-2-simple) (1.12.1)\n",
      "Requirement already satisfied: google-pasta>=0.1.1 in c:\\users\\carlo\\anaconda3\\lib\\site-packages (from tensorflow>=2.5.1->gpt-2-simple) (0.2.0)\n",
      "Requirement already satisfied: tensorboard~=2.6 in c:\\users\\carlo\\anaconda3\\lib\\site-packages (from tensorflow>=2.5.1->gpt-2-simple) (2.6.0)\n",
      "Requirement already satisfied: six>=1.12.0 in c:\\users\\carlo\\anaconda3\\lib\\site-packages (from tensorflow>=2.5.1->gpt-2-simple) (1.16.0)\n",
      "Requirement already satisfied: grpcio<2.0,>=1.24.3 in c:\\users\\carlo\\anaconda3\\lib\\site-packages (from tensorflow>=2.5.1->gpt-2-simple) (1.43.0)\n",
      "Requirement already satisfied: wheel<1.0,>=0.32.0 in c:\\users\\carlo\\anaconda3\\lib\\site-packages (from tensorflow>=2.5.1->gpt-2-simple) (0.37.0)\n",
      "Requirement already satisfied: gast<0.5.0,>=0.2.1 in c:\\users\\carlo\\anaconda3\\lib\\site-packages (from tensorflow>=2.5.1->gpt-2-simple) (0.4.0)\n",
      "Requirement already satisfied: tensorflow-io-gcs-filesystem>=0.21.0 in c:\\users\\carlo\\anaconda3\\lib\\site-packages (from tensorflow>=2.5.1->gpt-2-simple) (0.23.1)\n",
      "Requirement already satisfied: flatbuffers<3.0,>=1.12 in c:\\users\\carlo\\anaconda3\\lib\\site-packages (from tensorflow>=2.5.1->gpt-2-simple) (1.12)\n",
      "Collecting tensorflow-estimator<2.8,~=2.7.0rc0\n",
      "  Using cached tensorflow_estimator-2.7.0-py2.py3-none-any.whl (463 kB)\n",
      "Requirement already satisfied: absl-py>=0.4.0 in c:\\users\\carlo\\anaconda3\\lib\\site-packages (from tensorflow>=2.5.1->gpt-2-simple) (1.0.0)\n",
      "Requirement already satisfied: protobuf>=3.9.2 in c:\\users\\carlo\\anaconda3\\lib\\site-packages (from tensorflow>=2.5.1->gpt-2-simple) (3.19.1)\n",
      "Requirement already satisfied: keras-preprocessing>=1.1.1 in c:\\users\\carlo\\anaconda3\\lib\\site-packages (from tensorflow>=2.5.1->gpt-2-simple) (1.1.2)\n",
      "Requirement already satisfied: typing-extensions>=3.6.6 in c:\\users\\carlo\\anaconda3\\lib\\site-packages (from tensorflow>=2.5.1->gpt-2-simple) (3.10.0.2)\n",
      "Requirement already satisfied: termcolor>=1.1.0 in c:\\users\\carlo\\anaconda3\\lib\\site-packages (from tensorflow>=2.5.1->gpt-2-simple) (1.1.0)\n",
      "Requirement already satisfied: libclang>=9.0.1 in c:\\users\\carlo\\anaconda3\\lib\\site-packages (from tensorflow>=2.5.1->gpt-2-simple) (12.0.0)\n",
      "Requirement already satisfied: astunparse>=1.6.0 in c:\\users\\carlo\\anaconda3\\lib\\site-packages (from tensorflow>=2.5.1->gpt-2-simple) (1.6.3)\n",
      "Requirement already satisfied: h5py>=2.9.0 in c:\\users\\carlo\\anaconda3\\lib\\site-packages (from tensorflow>=2.5.1->gpt-2-simple) (3.6.0)\n",
      "Collecting keras<2.8,>=2.7.0rc0\n",
      "  Using cached keras-2.7.0-py2.py3-none-any.whl (1.3 MB)\n",
      "Requirement already satisfied: markdown>=2.6.8 in c:\\users\\carlo\\anaconda3\\lib\\site-packages (from tensorboard~=2.6->tensorflow>=2.5.1->gpt-2-simple) (3.3.6)\n",
      "Requirement already satisfied: setuptools>=41.0.0 in c:\\users\\carlo\\anaconda3\\lib\\site-packages (from tensorboard~=2.6->tensorflow>=2.5.1->gpt-2-simple) (58.0.4)\n",
      "Requirement already satisfied: google-auth-oauthlib<0.5,>=0.4.1 in c:\\users\\carlo\\anaconda3\\lib\\site-packages (from tensorboard~=2.6->tensorflow>=2.5.1->gpt-2-simple) (0.4.6)\n",
      "Requirement already satisfied: tensorboard-data-server<0.7.0,>=0.6.0 in c:\\users\\carlo\\anaconda3\\lib\\site-packages (from tensorboard~=2.6->tensorflow>=2.5.1->gpt-2-simple) (0.6.1)\n",
      "Requirement already satisfied: tensorboard-plugin-wit>=1.6.0 in c:\\users\\carlo\\anaconda3\\lib\\site-packages (from tensorboard~=2.6->tensorflow>=2.5.1->gpt-2-simple) (1.8.0)\n",
      "Requirement already satisfied: werkzeug>=0.11.15 in c:\\users\\carlo\\anaconda3\\lib\\site-packages (from tensorboard~=2.6->tensorflow>=2.5.1->gpt-2-simple) (2.0.2)\n",
      "Requirement already satisfied: google-auth<2,>=1.6.3 in c:\\users\\carlo\\anaconda3\\lib\\site-packages (from tensorboard~=2.6->tensorflow>=2.5.1->gpt-2-simple) (1.35.0)\n",
      "Requirement already satisfied: rsa<5,>=3.1.4 in c:\\users\\carlo\\anaconda3\\lib\\site-packages (from google-auth<2,>=1.6.3->tensorboard~=2.6->tensorflow>=2.5.1->gpt-2-simple) (4.8)\n",
      "Requirement already satisfied: cachetools<5.0,>=2.0.0 in c:\\users\\carlo\\anaconda3\\lib\\site-packages (from google-auth<2,>=1.6.3->tensorboard~=2.6->tensorflow>=2.5.1->gpt-2-simple) (4.2.4)\n",
      "Requirement already satisfied: pyasn1-modules>=0.2.1 in c:\\users\\carlo\\anaconda3\\lib\\site-packages (from google-auth<2,>=1.6.3->tensorboard~=2.6->tensorflow>=2.5.1->gpt-2-simple) (0.2.8)\n",
      "Requirement already satisfied: requests-oauthlib>=0.7.0 in c:\\users\\carlo\\anaconda3\\lib\\site-packages (from google-auth-oauthlib<0.5,>=0.4.1->tensorboard~=2.6->tensorflow>=2.5.1->gpt-2-simple) (1.3.0)\n",
      "Requirement already satisfied: importlib-metadata>=4.4 in c:\\users\\carlo\\anaconda3\\lib\\site-packages (from markdown>=2.6.8->tensorboard~=2.6->tensorflow>=2.5.1->gpt-2-simple) (4.8.1)\n",
      "Requirement already satisfied: zipp>=0.5 in c:\\users\\carlo\\anaconda3\\lib\\site-packages (from importlib-metadata>=4.4->markdown>=2.6.8->tensorboard~=2.6->tensorflow>=2.5.1->gpt-2-simple) (3.6.0)\n",
      "Requirement already satisfied: pyasn1<0.5.0,>=0.4.6 in c:\\users\\carlo\\anaconda3\\lib\\site-packages (from pyasn1-modules>=0.2.1->google-auth<2,>=1.6.3->tensorboard~=2.6->tensorflow>=2.5.1->gpt-2-simple) (0.4.8)\n",
      "Requirement already satisfied: urllib3<1.27,>=1.21.1 in c:\\users\\carlo\\anaconda3\\lib\\site-packages (from requests->gpt-2-simple) (1.26.7)\n",
      "Requirement already satisfied: idna<4,>=2.5 in c:\\users\\carlo\\anaconda3\\lib\\site-packages (from requests->gpt-2-simple) (3.2)\n",
      "Requirement already satisfied: charset-normalizer~=2.0.0 in c:\\users\\carlo\\anaconda3\\lib\\site-packages (from requests->gpt-2-simple) (2.0.4)\n",
      "Requirement already satisfied: certifi>=2017.4.17 in c:\\users\\carlo\\anaconda3\\lib\\site-packages (from requests->gpt-2-simple) (2021.10.8)\n",
      "Requirement already satisfied: oauthlib>=3.0.0 in c:\\users\\carlo\\anaconda3\\lib\\site-packages (from requests-oauthlib>=0.7.0->google-auth-oauthlib<0.5,>=0.4.1->tensorboard~=2.6->tensorflow>=2.5.1->gpt-2-simple) (3.1.1)\n",
      "Requirement already satisfied: colorama in c:\\users\\carlo\\anaconda3\\lib\\site-packages (from tqdm->gpt-2-simple) (0.4.4)\n",
      "Installing collected packages: tensorflow-estimator, keras\n",
      "  Attempting uninstall: tensorflow-estimator\n",
      "    Found existing installation: tensorflow-estimator 2.6.0\n",
      "    Uninstalling tensorflow-estimator-2.6.0:\n",
      "      Successfully uninstalled tensorflow-estimator-2.6.0\n",
      "  Attempting uninstall: keras\n",
      "    Found existing installation: keras 2.6.0\n",
      "    Uninstalling keras-2.6.0:\n",
      "      Successfully uninstalled keras-2.6.0\n",
      "Successfully installed keras-2.7.0 tensorflow-estimator-2.7.0\n"
     ]
    },
    {
     "name": "stderr",
     "output_type": "stream",
     "text": [
      "ERROR: pip's dependency resolver does not currently take into account all the packages that are installed. This behaviour is the source of the following dependency conflicts.\n",
      "tensorflow-gpu 2.6.2 requires absl-py~=0.10, but you have absl-py 1.0.0 which is incompatible.\n",
      "tensorflow-gpu 2.6.2 requires h5py~=3.1.0, but you have h5py 3.6.0 which is incompatible.\n",
      "tensorflow-gpu 2.6.2 requires keras<2.7,>=2.6.0, but you have keras 2.7.0 which is incompatible.\n",
      "tensorflow-gpu 2.6.2 requires numpy~=1.19.2, but you have numpy 1.22.0 which is incompatible.\n",
      "tensorflow-gpu 2.6.2 requires six~=1.15.0, but you have six 1.16.0 which is incompatible.\n",
      "tensorflow-gpu 2.6.2 requires tensorflow-estimator<2.7,>=2.6.0, but you have tensorflow-estimator 2.7.0 which is incompatible.\n",
      "tensorflow-gpu 2.6.2 requires typing-extensions~=3.7.4, but you have typing-extensions 3.10.0.2 which is incompatible.\n"
     ]
    }
   ],
   "source": [
    "# Install a pip package in the current Jupyter kernel\n",
    "import sys\n",
    "!{sys.executable} -m pip install gpt-2-simple"
   ]
  },
  {
   "cell_type": "code",
   "execution_count": 1,
   "id": "566b3a5a-9d76-46e7-89c7-abf283a8b2b8",
   "metadata": {},
   "outputs": [],
   "source": [
    "import gpt_2_simple as gpt2\n",
    "import os\n",
    "import requests"
   ]
  },
  {
   "cell_type": "code",
   "execution_count": 2,
   "id": "2cbb0d9e-77ab-4e53-b96e-07d5f09cc45b",
   "metadata": {},
   "outputs": [],
   "source": [
    "model_name = \"124M\"\n",
    "if not os.path.isdir(os.path.join(\"models\", model_name)):\n",
    "\tprint(f\"Downloading {model_name} model...\")\n",
    "\tgpt2.download_gpt2(model_name=model_name)   # model is saved into current directory under /models/124M/"
   ]
  },
  {
   "cell_type": "code",
   "execution_count": 3,
   "id": "9dcf2713-0540-4a2a-a3a4-237cd6e21e45",
   "metadata": {},
   "outputs": [],
   "source": [
    "file_name = \"DMDialogs.txt\"\n",
    "if not os.path.isfile(file_name):\n",
    "\turl = \"https://raw.githubusercontent.com/karpathy/char-rnn/master/data/tinyshakespeare/input.txt\"\n",
    "\tdata = requests.get(url)\n",
    "\n",
    "\twith open(file_name, 'w') as f:\n",
    "\t\tf.write(data.text)"
   ]
  },
  {
   "cell_type": "code",
   "execution_count": null,
   "id": "2327cee8-ee24-4bae-abd1-4022f6aa3e1e",
   "metadata": {},
   "outputs": [],
   "source": [
    "sess = gpt2.start_tf_sess()\n",
    "gpt2.finetune(sess,\n",
    "              dataset=file_name,\n",
    "              model_name=model_name,\n",
    "              steps=100,\n",
    "              restore_from='latest',\n",
    "              run_name='run1',\n",
    "              print_every=10,\n",
    "              sample_every=200,\n",
    "              save_every=500,\n",
    "              learning_rate= 1e-5\n",
    "             )"
   ]
  },
  {
   "cell_type": "code",
   "execution_count": 2,
   "id": "a6de62da-709d-4214-a9d1-7de21a82833f",
   "metadata": {},
   "outputs": [
    {
     "name": "stdout",
     "output_type": "stream",
     "text": [
      "You can eat a fruit\n"
     ]
    }
   ],
   "source": [
    "gpt2.generate(sess,\n",
    "              length=150,\n",
    "              temperature=0.7,\n",
    "              prefix=\"My blood glucose level is really low, what can I do?\",\n",
    "              run_name='run1-355',\n",
    "              nsamples=1,\n",
    "              batch_size=1,\n",
    "              truncate='.',\n",
    "              include_prefix=False\n",
    "              )"
   ]
  },
  {
   "cell_type": "code",
   "execution_count": 1,
   "id": "affa81ee-c638-4559-99cb-791bea488697",
   "metadata": {},
   "outputs": [
    {
     "name": "stdout",
     "output_type": "stream",
     "text": [
      "Loading checkpoint checkpoint\\run1-old\\model-1060\n",
      "INFO:tensorflow:Restoring parameters from checkpoint\\run1-old\\model-1060\n"
     ]
    }
   ],
   "source": [
    "import gpt_2_simple as gpt2\n",
    "\n",
    "sess = gpt2.start_tf_sess()\n",
    "gpt2.load_gpt2(sess,run_name='run1')"
   ]
  }
 ],
 "metadata": {
  "kernelspec": {
   "display_name": "Python 3 (ipykernel)",
   "language": "python",
   "name": "python3"
  },
  "language_info": {
   "codemirror_mode": {
    "name": "ipython",
    "version": 3
   },
   "file_extension": ".py",
   "mimetype": "text/x-python",
   "name": "python",
   "nbconvert_exporter": "python",
   "pygments_lexer": "ipython3",
   "version": "3.9.7"
  }
 },
 "nbformat": 4,
 "nbformat_minor": 5
}
